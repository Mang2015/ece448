{
 "cells": [
  {
   "cell_type": "code",
   "execution_count": 23,
   "metadata": {
    "collapsed": true
   },
   "outputs": [],
   "source": [
    "from mclass import *\n",
    "from maze import *\n",
    "from minHeapClass import *"
   ]
  },
  {
   "cell_type": "code",
   "execution_count": 24,
   "metadata": {},
   "outputs": [
    {
     "name": "stdout",
     "output_type": "stream",
     "text": [
      "%%%%%%%%%%%%%%%%%%%%%%%%%%%%%%%%%%%%%%%%%%%%%%%%%%%%%%%%%%%%%\n",
      "%P    %       %             %         %     %           %   %\n",
      "%%% %%% % %%%%% %%%%% %%%%% %%% %%%%%%% % %%% % %%%%%%% % %%%\n",
      "%   %         %   % %   % %   %         %   % %     % % %   %\n",
      "% %%% %%% %%% %%% % %%% % %%% % %%%%%% %%%% % %%%%% % % %%% %\n",
      "% %   % %   % %   %   % %                 % %   % % %       %\n",
      "%   %%% % % % % % % % % %%% % %%%%%%% %%% % %%% % % %%%%%%% %\n",
      "% %   %   % %   %   % %   % %     %   %   %     % %   %   % %\n",
      "% %%%%%%% % % %%% %%% %%% % %%% %%% % % %%%%%%%%% %%% % % % %\n",
      "%   %   % %       % % %   %   % %   % % %     %     %   % % %\n",
      "% % %%% % %%% %%%%% % % %%%%% % % %%% % % %%% %%%%% %%%%% %%%\n",
      "% %   % %   %         % %   % %     %   % % %           %   %\n",
      "% %%%%% %%%%% %%%%% %%% % % % %%%%%%%%% % % %%% %%% %%% %%% %\n",
      "%     %       %         % % %         %   %     %     %   % %\n",
      "% %%% %%% %%%%% %%%%% % %%% %%% %%%%% %%%%%% %%%% %%% %%% % %\n",
      "%   %     %     %   % %         % % %   %     %   %     % % %\n",
      "% % %%% %%% %%% %%% % %%% %%%% %% % %%% % %%% % %%% %%% %%% %\n",
      "% %   %   %       %       %       %   %   % % % %     %   % %\n",
      "% % %%% % %%%% %% %%%%%%%%% %%%%% %%% % %%% % % % % %%%%% % %\n",
      "% %     %   %     %       %   %       %     %   % % %   % % %\n",
      "% %%%% %% % % %%%%% %%%%% %%% % %%%% %% %%% %% %% %%% % % % %\n",
      "%         % %           %     %           %           % %  .%\n",
      "%%%%%%%%%%%%%%%%%%%%%%%%%%%%%%%%%%%%%%%%%%%%%%%%%%%%%%%%%%%%%\n",
      "\n",
      "StartIdx = 63\n",
      "GoalIdx = 1361\n"
     ]
    }
   ],
   "source": [
    "maze, cellList, startIdx, goalIdx = getMaze('/mediumMaze.txt')\n",
    "print maze + '\\n'\n",
    "print 'StartIdx =', startIdx\n",
    "print 'GoalIdx =', goalIdx"
   ]
  },
  {
   "cell_type": "code",
   "execution_count": 25,
   "metadata": {},
   "outputs": [
    {
     "ename": "AttributeError",
     "evalue": "minHeap instance has no attribute 'isEmpty'",
     "output_type": "error",
     "traceback": [
      "\u001b[0;31m---------------------------------------------------------------------------\u001b[0m",
      "\u001b[0;31mAttributeError\u001b[0m                            Traceback (most recent call last)",
      "\u001b[0;32m<ipython-input-25-3e77854e5f82>\u001b[0m in \u001b[0;36m<module>\u001b[0;34m()\u001b[0m\n\u001b[1;32m      4\u001b[0m \u001b[0mpQueue\u001b[0m\u001b[0;34m.\u001b[0m\u001b[0mpush\u001b[0m\u001b[0;34m(\u001b[0m\u001b[0;34m'fourth'\u001b[0m\u001b[0;34m,\u001b[0m \u001b[0;36m4\u001b[0m\u001b[0;34m)\u001b[0m\u001b[0;34m\u001b[0m\u001b[0m\n\u001b[1;32m      5\u001b[0m \u001b[0mpQueue\u001b[0m\u001b[0;34m.\u001b[0m\u001b[0mpush\u001b[0m\u001b[0;34m(\u001b[0m\u001b[0;34m'third'\u001b[0m\u001b[0;34m,\u001b[0m \u001b[0;36m3\u001b[0m\u001b[0;34m)\u001b[0m\u001b[0;34m\u001b[0m\u001b[0m\n\u001b[0;32m----> 6\u001b[0;31m \u001b[0mpQueue\u001b[0m\u001b[0;34m.\u001b[0m\u001b[0misEmpty\u001b[0m\u001b[0;34m(\u001b[0m\u001b[0;34m)\u001b[0m\u001b[0;34m\u001b[0m\u001b[0m\n\u001b[0m",
      "\u001b[0;31mAttributeError\u001b[0m: minHeap instance has no attribute 'isEmpty'"
     ]
    }
   ],
   "source": [
    "pQueue = minHeap()\n",
    "pQueue.push('second', 2)\n",
    "pQueue.push('first', 1)\n",
    "pQueue.push('fourth', 4)\n",
    "pQueue.push('third', 3)\n",
    "pQueue.isEmpty()"
   ]
  },
  {
   "cell_type": "code",
   "execution_count": null,
   "metadata": {
    "collapsed": true
   },
   "outputs": [],
   "source": []
  }
 ],
 "metadata": {
  "kernelspec": {
   "display_name": "Python 2",
   "language": "python",
   "name": "python2"
  },
  "language_info": {
   "codemirror_mode": {
    "name": "ipython",
    "version": 2
   },
   "file_extension": ".py",
   "mimetype": "text/x-python",
   "name": "python",
   "nbconvert_exporter": "python",
   "pygments_lexer": "ipython2",
   "version": "2.7.14"
  }
 },
 "nbformat": 4,
 "nbformat_minor": 2
}
