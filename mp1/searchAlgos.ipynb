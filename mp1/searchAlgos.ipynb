{
 "cells": [
  {
   "cell_type": "code",
   "execution_count": 65,
   "metadata": {},
   "outputs": [],
   "source": [
    "from mclass import *\n",
    "from maze import *\n",
    "from minHeapClass import *"
   ]
  },
  {
   "cell_type": "code",
   "execution_count": 66,
   "metadata": {},
   "outputs": [
    {
     "name": "stdout",
     "output_type": "stream",
     "text": [
      "%%%%%%%%%%%%%%%%%%%%%%%%%%%%%%%%%%%%%%%%%%%%%%%%%%%%%%%%%%%%%\n",
      "%P    %       %             %         %     %           %   %\n",
      "%%% %%% % %%%%% %%%%% %%%%% %%% %%%%%%% % %%% % %%%%%%% % %%%\n",
      "%   %         %   % %   % %   %         %   % %     % % %   %\n",
      "% %%% %%% %%% %%% % %%% % %%% % %%%%%% %%%% % %%%%% % % %%% %\n",
      "% %   % %   % %   %   % %                 % %   % % %       %\n",
      "%   %%% % % % % % % % % %%% % %%%%%%% %%% % %%% % % %%%%%%% %\n",
      "% %   %   % %   %   % %   % %     %   %   %     % %   %   % %\n",
      "% %%%%%%% % % %%% %%% %%% % %%% %%% % % %%%%%%%%% %%% % % % %\n",
      "%   %   % %       % % %   %   % %   % % %     %     %   % % %\n",
      "% % %%% % %%% %%%%% % % %%%%% % % %%% % % %%% %%%%% %%%%% %%%\n",
      "% %   % %   %         % %   % %     %   % % %           %   %\n",
      "% %%%%% %%%%% %%%%% %%% % % % %%%%%%%%% % % %%% %%% %%% %%% %\n",
      "%     %       %         % % %         %   %     %     %   % %\n",
      "% %%% %%% %%%%% %%%%% % %%% %%% %%%%% %%%%%% %%%% %%% %%% % %\n",
      "%   %     %     %   % %         % % %   %     %   %     % % %\n",
      "% % %%% %%% %%% %%% % %%% %%%% %% % %%% % %%% % %%% %%% %%% %\n",
      "% %   %   %       %       %       %   %   % % % %     %   % %\n",
      "% % %%% % %%%% %% %%%%%%%%% %%%%% %%% % %%% % % % % %%%%% % %\n",
      "% %     %   %     %       %   %       %     %   % % %   % % %\n",
      "% %%%% %% % % %%%%% %%%%% %%% % %%%% %% %%% %% %% %%% % % % %\n",
      "%         % %           %     %           %           % %  .%\n",
      "%%%%%%%%%%%%%%%%%%%%%%%%%%%%%%%%%%%%%%%%%%%%%%%%%%%%%%%%%%%%%\n",
      "\n",
      "StartIdx = 63\n",
      "GoalIdx = 1361\n"
     ]
    }
   ],
   "source": [
    "maze, cellList, startIdx, goalIdx = getMaze('/mediumMaze.txt')\n",
    "print maze + '\\n'\n",
    "print 'StartIdx =', startIdx\n",
    "print 'GoalIdx =', goalIdx"
   ]
  },
  {
   "cell_type": "code",
   "execution_count": 67,
   "metadata": {},
   "outputs": [],
   "source": [
    "pQueue = minHeap()"
   ]
  },
  {
   "cell_type": "code",
   "execution_count": 68,
   "metadata": {},
   "outputs": [
    {
     "ename": "AttributeError",
     "evalue": "minHeap instance has no attribute 'isEmpty'",
     "output_type": "error",
     "traceback": [
      "\u001b[0;31m---------------------------------------------------------------------------\u001b[0m",
      "\u001b[0;31mAttributeError\u001b[0m                            Traceback (most recent call last)",
      "\u001b[0;32m<ipython-input-68-5e07fc3429ee>\u001b[0m in \u001b[0;36m<module>\u001b[0;34m()\u001b[0m\n\u001b[0;32m----> 1\u001b[0;31m \u001b[0mpQueue\u001b[0m\u001b[0;34m.\u001b[0m\u001b[0misEmpty\u001b[0m\u001b[0;34m(\u001b[0m\u001b[0;34m)\u001b[0m\u001b[0;34m\u001b[0m\u001b[0m\n\u001b[0m",
      "\u001b[0;31mAttributeError\u001b[0m: minHeap instance has no attribute 'isEmpty'"
     ]
    }
   ],
   "source": [
    "pQueue.isEmpty()"
   ]
  },
  {
   "cell_type": "code",
   "execution_count": null,
   "metadata": {
    "collapsed": true
   },
   "outputs": [],
   "source": []
  }
 ],
 "metadata": {
  "kernelspec": {
   "display_name": "Python 2",
   "language": "python",
   "name": "python2"
  },
  "language_info": {
   "codemirror_mode": {
    "name": "ipython",
    "version": 2
   },
   "file_extension": ".py",
   "mimetype": "text/x-python",
   "name": "python",
   "nbconvert_exporter": "python",
   "pygments_lexer": "ipython2",
   "version": "2.7.14"
  }
 },
 "nbformat": 4,
 "nbformat_minor": 2
}
