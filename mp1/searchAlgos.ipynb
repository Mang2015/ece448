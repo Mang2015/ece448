{
 "cells": [
  {
   "cell_type": "code",
   "execution_count": 1,
   "metadata": {
    "collapsed": true
   },
   "outputs": [],
   "source": [
    "from mclass import *\n",
    "from maze import *\n",
    "from minHeapClass import *"
   ]
  },
  {
   "cell_type": "code",
   "execution_count": 2,
   "metadata": {},
   "outputs": [
    {
     "name": "stdout",
     "output_type": "stream",
     "text": [
      "%%%%%%%%%%%%%%%%%%%%%%%%%%%%%%%%%%%%%%%%%%%%%%%%%%%%%%%%%%%%%\n",
      "%P    %       %             %         %     %           %   %\n",
      "%%% %%% % %%%%% %%%%% %%%%% %%% %%%%%%% % %%% % %%%%%%% % %%%\n",
      "%   %         %   % %   % %   %         %   % %     % % %   %\n",
      "% %%% %%% %%% %%% % %%% % %%% % %%%%%% %%%% % %%%%% % % %%% %\n",
      "% %   % %   % %   %   % %                 % %   % % %       %\n",
      "%   %%% % % % % % % % % %%% % %%%%%%% %%% % %%% % % %%%%%%% %\n",
      "% %   %   % %   %   % %   % %     %   %   %     % %   %   % %\n",
      "% %%%%%%% % % %%% %%% %%% % %%% %%% % % %%%%%%%%% %%% % % % %\n",
      "%   %   % %       % % %   %   % %   % % %     %     %   % % %\n",
      "% % %%% % %%% %%%%% % % %%%%% % % %%% % % %%% %%%%% %%%%% %%%\n",
      "% %   % %   %         % %   % %     %   % % %           %   %\n",
      "% %%%%% %%%%% %%%%% %%% % % % %%%%%%%%% % % %%% %%% %%% %%% %\n",
      "%     %       %         % % %         %   %     %     %   % %\n",
      "% %%% %%% %%%%% %%%%% % %%% %%% %%%%% %%%%%% %%%% %%% %%% % %\n",
      "%   %     %     %   % %         % % %   %     %   %     % % %\n",
      "% % %%% %%% %%% %%% % %%% %%%% %% % %%% % %%% % %%% %%% %%% %\n",
      "% %   %   %       %       %       %   %   % % % %     %   % %\n",
      "% % %%% % %%%% %% %%%%%%%%% %%%%% %%% % %%% % % % % %%%%% % %\n",
      "% %     %   %     %       %   %       %     %   % % %   % % %\n",
      "% %%%% %% % % %%%%% %%%%% %%% % %%%% %% %%% %% %% %%% % % % %\n",
      "%         % %           %     %           %           % %  .%\n",
      "%%%%%%%%%%%%%%%%%%%%%%%%%%%%%%%%%%%%%%%%%%%%%%%%%%%%%%%%%%%%%\n",
      "\n",
      "StartIdx = 63\n",
      "GoalIdx = 1361\n"
     ]
    }
   ],
   "source": [
    "maze, cellList, startIdx, goalIdx = getMaze('/mediumMaze.txt')\n",
    "print maze + '\\n'\n",
    "print 'StartIdx =', startIdx\n",
    "print 'GoalIdx =', goalIdx"
   ]
  }
 ],
 "metadata": {
  "kernelspec": {
   "display_name": "Python 2",
   "language": "python",
   "name": "python2"
  },
  "language_info": {
   "codemirror_mode": {
    "name": "ipython",
    "version": 2
   },
   "file_extension": ".py",
   "mimetype": "text/x-python",
   "name": "python",
   "nbconvert_exporter": "python",
   "pygments_lexer": "ipython2",
   "version": "2.7.14"
  }
 },
 "nbformat": 4,
 "nbformat_minor": 2
}
