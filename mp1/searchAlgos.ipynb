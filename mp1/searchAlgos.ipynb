{
 "cells": [
  {
   "cell_type": "code",
   "execution_count": 1,
   "metadata": {
    "collapsed": true
   },
   "outputs": [],
   "source": [
    "from mclass import *\n",
    "from maze import *\n",
    "from minHeapClass import *"
   ]
  },
  {
   "cell_type": "code",
   "execution_count": 2,
   "metadata": {
    "collapsed": true
   },
   "outputs": [],
   "source": [
    "def ManhattanDistance(a, b):\n",
    "    return abs(a.x - b.x) + abs(a.y - b.y)\n",
    "\n",
    "def neighbors(maze, current):\n",
    "    children = []\n",
    "    if not maze[current.left].isWall:\n",
    "        children.append(maze[current.left])\n",
    "    if not maze[current.right].isWall:\n",
    "        children.append(maze[current.right])\n",
    "    if not maze[current.down].isWall:\n",
    "        children.append(maze[current.down])\n",
    "    if not maze[current.up].isWall:\n",
    "        children.append(maze[current.up])\n",
    "    return children\n",
    "\n",
    "def A_Star_Search(maze, startIdx, goalIdx):\n",
    "    openList = MinHeap()\n",
    "    gVal = {}\n",
    "    parents = {}\n",
    "    count = 0\n",
    "    \n",
    "    openList.push(maze[startIdx], 0)\n",
    "    gVal[maze[startIdx]] = 0\n",
    "    parents[maze[startIdx]] = None\n",
    "    \n",
    "    while not openList.isEmpty():\n",
    "        current = openList.pop()\n",
    "        count += 1\n",
    "        \n",
    "        if current.idx == goalIdx:\n",
    "            break\n",
    "            \n",
    "        children = neighbors(maze, current)\n",
    "        for child in children:\n",
    "            newGVal = gVal[current] + 1\n",
    "            if child not in gVal or newGVal < gVal[child]:\n",
    "                gVal[child] = newGVal\n",
    "                parents[child] = current\n",
    "                fn = newGVal + ManhattanDistance(child, maze[goalIdx])\n",
    "                openList.push(child, fn)\n",
    "    \n",
    "    return gVal, parents, count\n",
    "\n",
    "def drawPath(maze, cellList, parents, startIdx, goalIdx):\n",
    "    retPath = []\n",
    "    current = cellList[goalIdx]\n",
    "\n",
    "    while current != cellList[startIdx]:\n",
    "        retPath.append(current)\n",
    "        current = parents[current]\n",
    "    \n",
    "    newMaze = list(maze)\n",
    "\n",
    "    for movement in retPath:\n",
    "        if movement.idx == startIdx:\n",
    "            continue\n",
    "        if movement.idx == goalIdx:\n",
    "            continue\n",
    "        newMaze[movement.idx] = '.'\n",
    "\n",
    "    maze_string = ''.join(newMaze)\n",
    "    print maze_string\n",
    "    \n",
    "    return maze_string"
   ]
  },
  {
   "cell_type": "code",
   "execution_count": 3,
   "metadata": {
    "scrolled": false
   },
   "outputs": [
    {
     "name": "stdout",
     "output_type": "stream",
     "text": [
      "Unsolved Maze\n",
      "%%%%%%%%%%%%%%%%%%%%%%%%%%%%%%%%%%%%%\n",
      "%                     %P            %\n",
      "%                     %             %\n",
      "%                     %             %\n",
      "%                     %             %\n",
      "%                     %             %\n",
      "%                     %%%%%%%%      %\n",
      "%                            %      %\n",
      "%                            %      %\n",
      "%                            %      %\n",
      "%                            %      %\n",
      "%                            %      %\n",
      "%      %%%%%%%%%%%%%%%%%            %\n",
      "%      %                            %\n",
      "%      %                            %\n",
      "%      %                            %\n",
      "%      %                            %\n",
      "%      %%%%                         %\n",
      "%        .%                         %\n",
      "%%%%%%%%%%%%%%%%%%%%%%%%%%%%%%%%%%%%%\n",
      "\n",
      "Solved Maze\n",
      "%%%%%%%%%%%%%%%%%%%%%%%%%%%%%%%%%%%%%\n",
      "%                     %P            %\n",
      "%                     %.            %\n",
      "%                     %.            %\n",
      "%                     %.            %\n",
      "%                     %........     %\n",
      "%                     %%%%%%%%.     %\n",
      "%                            %.     %\n",
      "%                            %.     %\n",
      "%                            %.     %\n",
      "%                            %.     %\n",
      "%     ...................    %.     %\n",
      "%     .%%%%%%%%%%%%%%%%%.......     %\n",
      "%     .%                            %\n",
      "%     .%                            %\n",
      "%     .%                            %\n",
      "%     .%                            %\n",
      "%     .%%%%                         %\n",
      "%     ....%                         %\n",
      "%%%%%%%%%%%%%%%%%%%%%%%%%%%%%%%%%%%%%\n",
      "Cost of Path: 53\n",
      "Nodes Expanded: 352\n"
     ]
    }
   ],
   "source": [
    "print \"Unsolved Maze\"\n",
    "maze, cellList, startIdx, goalIdx = getMaze('/inputMazes/openMaze.txt')\n",
    "print maze + '\\n'\n",
    "\n",
    "print \"Solved Maze\"\n",
    "gVals, parents, expanded = A_Star_Search(cellList, startIdx, goalIdx)\n",
    "solution = drawPath(maze, cellList, parents, startIdx, goalIdx)\n",
    "\n",
    "print \"Cost of Path:\", gVals[cellList[goalIdx]]\n",
    "print \"Nodes Expanded:\", expanded\n",
    "\n",
    "f = open('a_star/a_star_open.txt', 'w')\n",
    "f.write(solution)\n",
    "f.write(\"\\nCost of Path:\" + \" \" + str(gVals[cellList[goalIdx]]))\n",
    "f.write(\"\\nNodes Expanded:\" + \" \" + str(expanded))\n",
    "f.close()"
   ]
  },
  {
   "cell_type": "code",
   "execution_count": 19,
   "metadata": {
    "collapsed": true
   },
   "outputs": [],
   "source": [
    "# g = 1.1 search from start to each individual pellet\n",
    "# h = sum of weights on MST from the remaining states. So say there is 3 pellets A,B,C. We calculate\n",
    "# the MST from A, including B,C etc. And then the h value for each pellet is the sum of weights on the MST"
   ]
  },
  {
   "cell_type": "code",
   "execution_count": 8,
   "metadata": {},
   "outputs": [],
   "source": [
    "maze2, cellList2, startIdx2, goalList = getMazeWithFinList('/inputMazes/tinySearch.txt')"
   ]
  },
  {
   "cell_type": "code",
   "execution_count": 13,
   "metadata": {},
   "outputs": [
    {
     "name": "stdout",
     "output_type": "stream",
     "text": [
      "6\n",
      "7\n",
      "3\n",
      "3\n",
      "7\n",
      "4\n",
      "4\n",
      "1\n",
      "4\n",
      "6\n",
      "6\n",
      "5\n"
     ]
    }
   ],
   "source": [
    "for finIdx in goalList:\n",
    "    gVals, parents, expanded = A_Star_Search(cellList2, startIdx2, finIdx)\n",
    "    print gVals[cellList2[finIdx]]"
   ]
  },
  {
   "cell_type": "code",
   "execution_count": null,
   "metadata": {
    "collapsed": true
   },
   "outputs": [],
   "source": []
  }
 ],
 "metadata": {
  "kernelspec": {
   "display_name": "Python 2",
   "language": "python",
   "name": "python2"
  },
  "language_info": {
   "codemirror_mode": {
    "name": "ipython",
    "version": 2
   },
   "file_extension": ".py",
   "mimetype": "text/x-python",
   "name": "python",
   "nbconvert_exporter": "python",
   "pygments_lexer": "ipython2",
   "version": "2.7.14"
  }
 },
 "nbformat": 4,
 "nbformat_minor": 2
}
