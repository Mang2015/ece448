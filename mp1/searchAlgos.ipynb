{
 "cells": [
  {
   "cell_type": "code",
   "execution_count": 134,
   "metadata": {
    "collapsed": true
   },
   "outputs": [],
   "source": [
    "from mclass import *\n",
    "from maze import *\n",
    "from minHeapClass import *\n",
    "import numpy as np\n",
    "import random"
   ]
  },
  {
   "cell_type": "code",
   "execution_count": 2,
   "metadata": {
    "collapsed": true
   },
   "outputs": [],
   "source": [
    "def ManhattanDistance(a, b):\n",
    "    return abs(a.x - b.x) + abs(a.y - b.y)\n",
    "\n",
    "def neighbors(maze, current):\n",
    "    children = []\n",
    "    if not maze[current.left].isWall:\n",
    "        children.append(maze[current.left])\n",
    "    if not maze[current.right].isWall:\n",
    "        children.append(maze[current.right])\n",
    "    if not maze[current.down].isWall:\n",
    "        children.append(maze[current.down])\n",
    "    if not maze[current.up].isWall:\n",
    "        children.append(maze[current.up])\n",
    "    return children\n",
    "\n",
    "def A_Star_Search(maze, startIdx, goalIdx):\n",
    "    openList = MinHeap()\n",
    "    gVal = {}\n",
    "    parents = {}\n",
    "    count = 0\n",
    "    \n",
    "    openList.push(maze[startIdx], 0)\n",
    "    gVal[maze[startIdx]] = 0\n",
    "    parents[maze[startIdx]] = None\n",
    "    \n",
    "    while not openList.isEmpty():\n",
    "        current = openList.pop()\n",
    "        count += 1\n",
    "        \n",
    "        if current.idx == goalIdx:\n",
    "            break\n",
    "            \n",
    "        children = neighbors(maze, current)\n",
    "        for child in children:\n",
    "            newGVal = gVal[current] + 1\n",
    "            if child not in gVal or newGVal < gVal[child]:\n",
    "                gVal[child] = newGVal\n",
    "                parents[child] = current\n",
    "                fn = newGVal + ManhattanDistance(child, maze[goalIdx])\n",
    "                openList.push(child, fn)\n",
    "    \n",
    "    return gVal, parents, count\n",
    "\n",
    "def drawPath(maze, cellList, parents, startIdx, goalIdx):\n",
    "    retPath = []\n",
    "    current = cellList[goalIdx]\n",
    "\n",
    "    while current != cellList[startIdx]:\n",
    "        retPath.append(current)\n",
    "        current = parents[current]\n",
    "    \n",
    "    newMaze = list(maze)\n",
    "\n",
    "    for movement in retPath:\n",
    "        if movement.idx == startIdx:\n",
    "            continue\n",
    "        if movement.idx == goalIdx:\n",
    "            continue\n",
    "        newMaze[movement.idx] = '.'\n",
    "\n",
    "    maze_string = ''.join(newMaze)\n",
    "    print maze_string\n",
    "    \n",
    "    return maze_string"
   ]
  },
  {
   "cell_type": "code",
   "execution_count": 30,
   "metadata": {
    "scrolled": false
   },
   "outputs": [
    {
     "name": "stdout",
     "output_type": "stream",
     "text": [
      "Unsolved Maze\n",
      "%%%%%%%%%%%%%%%%%%%%%%%%%%%%%%%%%%%%%\n",
      "%                     %P            %\n",
      "%                     %             %\n",
      "%                     %             %\n",
      "%                     %             %\n",
      "%                     %             %\n",
      "%                     %%%%%%%%      %\n",
      "%                            %      %\n",
      "%                            %      %\n",
      "%                            %      %\n",
      "%                            %      %\n",
      "%                            %      %\n",
      "%      %%%%%%%%%%%%%%%%%            %\n",
      "%      %                            %\n",
      "%      %                            %\n",
      "%      %                            %\n",
      "%      %                            %\n",
      "%      %%%%                         %\n",
      "%        .%                         %\n",
      "%%%%%%%%%%%%%%%%%%%%%%%%%%%%%%%%%%%%%\n",
      "\n",
      "Solved Maze\n",
      "%%%%%%%%%%%%%%%%%%%%%%%%%%%%%%%%%%%%%\n",
      "%                     %P            %\n",
      "%                     %.            %\n",
      "%                     %.            %\n",
      "%                     %.            %\n",
      "%                     %........     %\n",
      "%                     %%%%%%%%.     %\n",
      "%                            %.     %\n",
      "%                            %.     %\n",
      "%                            %.     %\n",
      "%                            %.     %\n",
      "%     ...................    %.     %\n",
      "%     .%%%%%%%%%%%%%%%%%.......     %\n",
      "%     .%                            %\n",
      "%     .%                            %\n",
      "%     .%                            %\n",
      "%     .%                            %\n",
      "%     .%%%%                         %\n",
      "%     ....%                         %\n",
      "%%%%%%%%%%%%%%%%%%%%%%%%%%%%%%%%%%%%%\n",
      "Cost of Path: 53\n",
      "Nodes Expanded: 417\n"
     ]
    }
   ],
   "source": [
    "print \"Unsolved Maze\"\n",
    "maze, cellList, startIdx, goalIdx = getMaze('/inputMazes/openMaze.txt')\n",
    "print maze + '\\n'\n",
    "\n",
    "print \"Solved Maze\"\n",
    "gVals, parents, expanded = A_Star_Search(cellList, startIdx, goalIdx)\n",
    "solution = drawPath(maze, cellList, parents, startIdx, goalIdx)\n",
    "# gVals, parents, expanded = A_Star_Search(cellList, goalIdx, startIdx)\n",
    "# solution = drawPath(maze, cellList, parents, goalIdx, startIdx)\n",
    "\n",
    "print \"Cost of Path:\", gVals[cellList[goalIdx]]\n",
    "print \"Nodes Expanded:\", expanded\n",
    "\n",
    "f = open('a_star/a_star_open.txt', 'w')\n",
    "f.write(solution)\n",
    "f.write(\"\\nCost of Path:\" + \" \" + str(gVals[cellList[goalIdx]]))\n",
    "f.write(\"\\nNodes Expanded:\" + \" \" + str(expanded))\n",
    "f.close()"
   ]
  },
  {
   "cell_type": "code",
   "execution_count": 19,
   "metadata": {
    "collapsed": true
   },
   "outputs": [],
   "source": [
    "# g = 1.1 search from start to each individual pellet\n",
    "# h = sum of weights on MST from the remaining states. So say there is 3 pellets A,B,C. We calculate\n",
    "# the MST from A, including B,C etc. And then the h value for each pellet is the sum of weights on the MST"
   ]
  },
  {
   "cell_type": "code",
   "execution_count": 150,
   "metadata": {},
   "outputs": [],
   "source": [
    "maze2, cellList2, startIdx2, goalList = getMazeWithFinList('/inputMazes/tinySearch.txt')"
   ]
  },
  {
   "cell_type": "code",
   "execution_count": 151,
   "metadata": {
    "collapsed": true
   },
   "outputs": [],
   "source": [
    "def generateMST(lookup, root):\n",
    "    retVal = []\n",
    "    visited = []\n",
    "    \n",
    "    visited.append(root)\n",
    "    \n",
    "    while len(visited) != lookup.shape[0]:\n",
    "        edges = []\n",
    "        for vertex in visited:\n",
    "            for adj in range(lookup.shape[0]):\n",
    "                if adj not in visited and lookup[vertex][adj] != 0:\n",
    "                    edges.append((vertex, adj))\n",
    "        #add smallest edge\n",
    "        smallestEdge = edges[0]\n",
    "        for edge in edges:\n",
    "            if lookup[edge[0]][edge[1]] < lookup[smallestEdge[0]][smallestEdge[1]]:\n",
    "                smallestEdge = edge\n",
    "            if lookup[edge[0]][edge[1]] == lookup[smallestEdge[0]][smallestEdge[1]]:\n",
    "                x = random.randint(1,2)\n",
    "                if x == 1:\n",
    "                    continue\n",
    "                else:\n",
    "                    smallestEdge = edge\n",
    "        retVal.append(smallestEdge)\n",
    "        visited.append(smallestEdge[1])\n",
    "    \n",
    "    return retVal"
   ]
  },
  {
   "cell_type": "code",
   "execution_count": 162,
   "metadata": {
    "scrolled": false
   },
   "outputs": [],
   "source": [
    "gList = []\n",
    "hList = []\n",
    "fList = []\n",
    "lookup = np.zeros((len(goalList), len(goalList)))\n",
    "\n",
    "for finIdx in range(len(goalList)):\n",
    "    gVals, parents, expanded = A_Star_Search(cellList2, startIdx2, goalList[finIdx])\n",
    "    gList.append(gVals[cellList2[goalList[finIdx]]])\n",
    "\n",
    "for x in range(len(goalList)):\n",
    "    for y in range(len(goalList)):\n",
    "        if x == y:\n",
    "            lookup[x][y] = 0\n",
    "            continue\n",
    "        gVals, parents, expanded = A_Star_Search(cellList2, goalList[x], goalList[y])\n",
    "        lookup[x][y] = gVals[cellList2[goalList[y]]]\n",
    "\n",
    "for finIdx in range(len(goalList)):\n",
    "    mstSum = 0\n",
    "    edges = generateMST(lookup, finIdx)\n",
    "    for edge in edges:\n",
    "        mstSum += lookup[edge[0]][edge[1]]\n",
    "    hList.append(mstSum)\n",
    "\n",
    "for idx in range(len(gList)):\n",
    "    fList.append(gList[idx] + hList[idx])\n",
    "    \n",
    "order = np.argsort(fList)"
   ]
  },
  {
   "cell_type": "code",
   "execution_count": 182,
   "metadata": {},
   "outputs": [
    {
     "name": "stdout",
     "output_type": "stream",
     "text": [
      "%%%%%%%%%%\n",
      "%8  %   B%\n",
      "% %2% %% %\n",
      "% %   3%C%\n",
      "% 4%P%   %\n",
      "%5  1  6 %\n",
      "% %%%% %9%\n",
      "%A    7% %\n",
      "%%%%%%%%%%\n"
     ]
    }
   ],
   "source": [
    "numbers = ['1','2','3','4','5','6','7','8','9']\n",
    "upperCase = list('ABCDEFGHIJKLMNOPQRSTUVWXYZ')\n",
    "lowerCase = list('abcdefghijklmnopqrstuvwxyz')\n",
    "ordering = numbers + upperCase + lowerCase\n",
    "\n",
    "newMaze = list(maze2)\n",
    "\n",
    "for idx in range(len(order)):\n",
    "    newMaze[goalList[order[idx]]] = ordering[idx]\n",
    "\n",
    "maze_string = ''.join(newMaze)\n",
    "print maze_string"
   ]
  },
  {
   "cell_type": "code",
   "execution_count": null,
   "metadata": {
    "collapsed": true
   },
   "outputs": [],
   "source": []
  }
 ],
 "metadata": {
  "kernelspec": {
   "display_name": "Python 2",
   "language": "python",
   "name": "python2"
  },
  "language_info": {
   "codemirror_mode": {
    "name": "ipython",
    "version": 2
   },
   "file_extension": ".py",
   "mimetype": "text/x-python",
   "name": "python",
   "nbconvert_exporter": "python",
   "pygments_lexer": "ipython2",
   "version": "2.7.14"
  }
 },
 "nbformat": 4,
 "nbformat_minor": 2
}
