{
 "cells": [
  {
   "cell_type": "code",
   "execution_count": 24,
   "metadata": {},
   "outputs": [
    {
     "name": "stdout",
     "output_type": "stream",
     "text": [
      "%%%%%%%%%%%%%%%%%%%%%%%%%%%%%%%%%%%%%%%%%%%%%%%%%%%%%%%%%%%%%\n",
      "%P    %       %             %         %     %           %   %\n",
      "%%% %%% % %%%%% %%%%% %%%%% %%% %%%%%%% % %%% % %%%%%%% % %%%\n",
      "%   %         %   % %   % %   %         %   % %     % % %   %\n",
      "% %%% %%% %%% %%% % %%% % %%% % %%%%%% %%%% % %%%%% % % %%% %\n",
      "% %   % %   % %   %   % %                 % %   % % %       %\n",
      "%   %%% % % % % % % % % %%% % %%%%%%% %%% % %%% % % %%%%%%% %\n",
      "% %   %   % %   %   % %   % %     %   %   %     % %   %   % %\n",
      "% %%%%%%% % % %%% %%% %%% % %%% %%% % % %%%%%%%%% %%% % % % %\n",
      "%   %   % %       % % %   %   % %   % % %     %     %   % % %\n",
      "% % %%% % %%% %%%%% % % %%%%% % % %%% % % %%% %%%%% %%%%% %%%\n",
      "% %   % %   %         % %   % %     %   % % %           %   %\n",
      "% %%%%% %%%%% %%%%% %%% % % % %%%%%%%%% % % %%% %%% %%% %%% %\n",
      "%     %       %         % % %         %   %     %     %   % %\n",
      "% %%% %%% %%%%% %%%%% % %%% %%% %%%%% %%%%%% %%%% %%% %%% % %\n",
      "%   %     %     %   % %         % % %   %     %   %     % % %\n",
      "% % %%% %%% %%% %%% % %%% %%%% %% % %%% % %%% % %%% %%% %%% %\n",
      "% %   %   %       %       %       %   %   % % % %     %   % %\n",
      "% % %%% % %%%% %% %%%%%%%%% %%%%% %%% % %%% % % % % %%%%% % %\n",
      "% %     %   %     %       %   %       %     %   % % %   % % %\n",
      "% %%%% %% % % %%%%% %%%%% %%% % %%%% %% %%% %% %% %%% % % % %\n",
      "%         % %           %     %           %           % %  .%\n",
      "%%%%%%%%%%%%%%%%%%%%%%%%%%%%%%%%%%%%%%%%%%%%%%%%%%%%%%%%%%%%%\n"
     ]
    }
   ],
   "source": [
    "mazefile = open('mediumMaze.txt', 'r')\n",
    "maze = mazefile.read()\n",
    "print maze"
   ]
  },
  {
   "cell_type": "code",
   "execution_count": 25,
   "metadata": {},
   "outputs": [
    {
     "name": "stdout",
     "output_type": "stream",
     "text": [
      "61\n"
     ]
    }
   ],
   "source": [
    "mazeWidth = 0\n",
    "for idx in maze:\n",
    "    if idx == '\\n':\n",
    "        break\n",
    "    mazeWidth += 1\n",
    "\n",
    "print mazeWidth"
   ]
  },
  {
   "cell_type": "code",
   "execution_count": null,
   "metadata": {
    "collapsed": true
   },
   "outputs": [],
   "source": [
    "class mazeCell:\n",
    "    def __init__(self, )"
   ]
  }
 ],
 "metadata": {
  "kernelspec": {
   "display_name": "Python 2",
   "language": "python",
   "name": "python2"
  },
  "language_info": {
   "codemirror_mode": {
    "name": "ipython",
    "version": 2
   },
   "file_extension": ".py",
   "mimetype": "text/x-python",
   "name": "python",
   "nbconvert_exporter": "python",
   "pygments_lexer": "ipython2",
   "version": "2.7.14"
  }
 },
 "nbformat": 4,
 "nbformat_minor": 2
}
