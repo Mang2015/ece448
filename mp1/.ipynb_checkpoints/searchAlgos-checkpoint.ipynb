{
 "cells": [
  {
   "cell_type": "code",
   "execution_count": 48,
   "metadata": {
    "collapsed": true
   },
   "outputs": [],
   "source": [
    "from mclass import *\n",
    "from maze import *\n",
    "from minHeapClass import *"
   ]
  },
  {
   "cell_type": "code",
   "execution_count": 67,
   "metadata": {},
   "outputs": [
    {
     "name": "stdout",
     "output_type": "stream",
     "text": [
      "%%%%%%%%%%%%%%%%%%%%%%%%%%%%%%%%%%%%%\n",
      "%                     %P            %\n",
      "%                     %             %\n",
      "%                     %             %\n",
      "%                     %             %\n",
      "%                     %             %\n",
      "%                     %%%%%%%%      %\n",
      "%                            %      %\n",
      "%                            %      %\n",
      "%                            %      %\n",
      "%                            %      %\n",
      "%                            %      %\n",
      "%      %%%%%%%%%%%%%%%%%            %\n",
      "%      %                            %\n",
      "%      %                            %\n",
      "%      %                            %\n",
      "%      %                            %\n",
      "%      %%%%                         %\n",
      "%        .%                         %\n",
      "%%%%%%%%%%%%%%%%%%%%%%%%%%%%%%%%%%%%%\n",
      "\n",
      "StartIdx = 61\n",
      "GoalIdx = 693\n"
     ]
    }
   ],
   "source": [
    "maze, cellList, startIdx, goalIdx = getMaze('/openMaze.txt')\n",
    "print maze + '\\n'\n",
    "print 'StartIdx =', startIdx\n",
    "print 'GoalIdx =', goalIdx"
   ]
  },
  {
   "cell_type": "code",
   "execution_count": 68,
   "metadata": {},
   "outputs": [
    {
     "name": "stdout",
     "output_type": "stream",
     "text": [
      "Start X: 23\n",
      "Start Y: 1\n",
      "\n",
      "Goal X: 9\n",
      "Goal Y: 18\n"
     ]
    }
   ],
   "source": [
    "print 'Start X:', cellList[startIdx].x\n",
    "print 'Start Y:', cellList[startIdx].y\n",
    "print\n",
    "print 'Goal X:', cellList[goalIdx].x\n",
    "print 'Goal Y:', cellList[goalIdx].y"
   ]
  },
  {
   "cell_type": "code",
   "execution_count": 69,
   "metadata": {
    "collapsed": true
   },
   "outputs": [],
   "source": [
    "def ManhattanDistance(a, b):\n",
    "    return abs(a.x - b.x) + abs(a.y - b.y)\n",
    "\n",
    "def neighbors(maze, current):\n",
    "    children = []\n",
    "    if not maze[current.left].isWall:\n",
    "        children.append(maze[current.left])\n",
    "    if not maze[current.right].isWall:\n",
    "        children.append(maze[current.right])\n",
    "    if not maze[current.down].isWall:\n",
    "        children.append(maze[current.down])\n",
    "    if not maze[current.up].isWall:\n",
    "        children.append(maze[current.up])\n",
    "    return children"
   ]
  },
  {
   "cell_type": "code",
   "execution_count": 70,
   "metadata": {
    "collapsed": true
   },
   "outputs": [],
   "source": [
    "def A_Star_Search(maze, startIdx, goalIdx):\n",
    "    openList = MinHeap()\n",
    "    gVal = {}\n",
    "    parents = {}\n",
    "    count = 0\n",
    "    \n",
    "    openList.push(maze[startIdx], 0)\n",
    "    gVal[maze[startIdx]] = 0\n",
    "    parents[maze[startIdx]] = None\n",
    "    \n",
    "    while not openList.isEmpty():\n",
    "        current = openList.pop()\n",
    "        count += 1\n",
    "        \n",
    "        if current.idx == goalIdx:\n",
    "            break\n",
    "            \n",
    "        children = neighbors(maze, current)\n",
    "        for child in children:\n",
    "            newGVal = gVal[current] + 1\n",
    "            if child not in gVal or newGVal < gVal[child]:\n",
    "                gVal[child] = newGVal\n",
    "                parents[child] = current\n",
    "                fn = newGVal + ManhattanDistance(child, maze[goalIdx])\n",
    "                openList.push(child, fn)\n",
    "    \n",
    "    return gVal, parents, count"
   ]
  },
  {
   "cell_type": "code",
   "execution_count": 71,
   "metadata": {
    "collapsed": true
   },
   "outputs": [],
   "source": [
    "def drawPath(maze, cellList, parents, startIdx, goalIdx):\n",
    "    retPath = []\n",
    "    current = cellList[goalIdx]\n",
    "\n",
    "    while current != cellList[startIdx]:\n",
    "        retPath.append(current)\n",
    "        current = parents[current]\n",
    "    \n",
    "    newMaze = list(maze)\n",
    "\n",
    "    for movement in retPath:\n",
    "        if movement.idx == startIdx:\n",
    "            continue\n",
    "        if movement.idx == goalIdx:\n",
    "            continue\n",
    "        newMaze[movement.idx] = '.'\n",
    "\n",
    "    maze_string = ''.join(newMaze)\n",
    "    print maze_string\n",
    "    \n",
    "    return"
   ]
  },
  {
   "cell_type": "code",
   "execution_count": 74,
   "metadata": {
    "scrolled": false
   },
   "outputs": [
    {
     "name": "stdout",
     "output_type": "stream",
     "text": [
      "%%%%%%%%%%%%%%%%%%%%%%%%%%%%%%%%%%%%%\n",
      "%                     %P            %\n",
      "%                     %.            %\n",
      "%                     %.            %\n",
      "%                     %.            %\n",
      "%                     %........     %\n",
      "%                     %%%%%%%%.     %\n",
      "%                            %.     %\n",
      "%                            %.     %\n",
      "%                            %.     %\n",
      "%                            %.     %\n",
      "%     ...................    %.     %\n",
      "%     .%%%%%%%%%%%%%%%%%.......     %\n",
      "%     .%                            %\n",
      "%     .%                            %\n",
      "%     .%                            %\n",
      "%     .%                            %\n",
      "%     .%%%%                         %\n",
      "%     ....%                         %\n",
      "%%%%%%%%%%%%%%%%%%%%%%%%%%%%%%%%%%%%%\n",
      "53\n",
      "374\n",
      "371\n"
     ]
    }
   ],
   "source": [
    "gVals, parents, expanded = A_Star_Search(cellList, startIdx, goalIdx)\n",
    "drawPath(maze, cellList, parents, startIdx, goalIdx)\n",
    "print gVals[cellList[goalIdx]]\n",
    "print len(gVals)\n",
    "print expanded"
   ]
  },
  {
   "cell_type": "code",
   "execution_count": null,
   "metadata": {
    "collapsed": true
   },
   "outputs": [],
   "source": []
  }
 ],
 "metadata": {
  "kernelspec": {
   "display_name": "Python 2",
   "language": "python",
   "name": "python2"
  },
  "language_info": {
   "codemirror_mode": {
    "name": "ipython",
    "version": 2
   },
   "file_extension": ".py",
   "mimetype": "text/x-python",
   "name": "python",
   "nbconvert_exporter": "python",
   "pygments_lexer": "ipython2",
   "version": "2.7.14"
  }
 },
 "nbformat": 4,
 "nbformat_minor": 2
}
