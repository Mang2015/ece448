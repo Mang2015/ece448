{
 "cells": [
  {
   "cell_type": "code",
   "execution_count": 17,
   "metadata": {
    "collapsed": true
   },
   "outputs": [],
   "source": [
    "# This file will be used to complete Part 1.1 and 1.2\n",
    "from graph import *\n",
    "from stateNodeClass import *\n",
    "import copy"
   ]
  },
  {
   "cell_type": "code",
   "execution_count": 2,
   "metadata": {},
   "outputs": [
    {
     "name": "stdout",
     "output_type": "stream",
     "text": [
      "[0, 4, 3, 2, 0] [1, 4, 0, 2, 3] [1, 0, 1, 2, 4] [3, 0, 3, 1, 3] [1, 4, 2, 1, 3]\n"
     ]
    }
   ],
   "source": [
    "# Define global variables\n",
    "a = 0\n",
    "b = 1\n",
    "c = 2\n",
    "d = 3\n",
    "e = 4\n",
    "widget1global = [a, e, d, c, a]\n",
    "widget2global = [b, e, a, c, d]\n",
    "widget3global = [b, a, b, c, e]\n",
    "widget4global = [d, a ,d, b, d]\n",
    "widget5global = [b, e, c, b, d]\n",
    "print widget1global, widget2global, widget3global, widget4global, widget5global"
   ]
  },
  {
   "cell_type": "code",
   "execution_count": 33,
   "metadata": {
    "collapsed": true
   },
   "outputs": [],
   "source": [
    "def heuristic(graph):\n",
    "    # calculate h(n) at each step\n",
    "    return h\n",
    "\n",
    "def children(state, currentCity):\n",
    "    # return the possible children from the current state\n",
    "    children = []\n",
    "    tempState = copy.deepcopy(state)\n",
    "    for city in range(5):\n",
    "        if city == currentCity:\n",
    "            continue\n",
    "        tempState.updateWidgets(city)\n",
    "        children.append(tempState)\n",
    "        tempState = copy.deepcopy(state)\n",
    "    return children"
   ]
  },
  {
   "cell_type": "code",
   "execution_count": 49,
   "metadata": {},
   "outputs": [
    {
     "name": "stdout",
     "output_type": "stream",
     "text": [
      "W1: [0, 0, 0, 0, 0]\n",
      "W2: [0, 0, 0, 0, 0]\n",
      "W3: [0, 0, 0, 0, 0]\n",
      "W4: [0, 0, 0, 0, 0]\n",
      "W5: [0, 0, 0, 0, 0]\n"
     ]
    }
   ],
   "source": [
    "initialState = StateNode()\n",
    "initialState.printState()"
   ]
  },
  {
   "cell_type": "code",
   "execution_count": 50,
   "metadata": {},
   "outputs": [
    {
     "name": "stdout",
     "output_type": "stream",
     "text": [
      "W1: [0, 0, 0, 0, 0]\n",
      "W2: [1, 0, 0, 0, 0]\n",
      "W3: [1, 0, 0, 0, 0]\n",
      "W4: [0, 0, 0, 0, 0]\n",
      "W5: [1, 0, 0, 0, 0]\n"
     ]
    }
   ],
   "source": [
    "initialState.updateWidgets(b)\n",
    "initialState.printState()"
   ]
  },
  {
   "cell_type": "code",
   "execution_count": 51,
   "metadata": {},
   "outputs": [],
   "source": [
    "initialChildren = children(initialState, b)"
   ]
  },
  {
   "cell_type": "code",
   "execution_count": 52,
   "metadata": {},
   "outputs": [
    {
     "name": "stdout",
     "output_type": "stream",
     "text": [
      "W1: [1, 0, 0, 0, 0]\n",
      "W2: [1, 0, 0, 0, 0]\n",
      "W3: [1, 1, 0, 0, 0]\n",
      "W4: [0, 0, 0, 0, 0]\n",
      "W5: [1, 0, 0, 0, 0]\n",
      "\n",
      "W1: [0, 0, 0, 0, 0]\n",
      "W2: [1, 0, 0, 0, 0]\n",
      "W3: [1, 0, 0, 0, 0]\n",
      "W4: [0, 0, 0, 0, 0]\n",
      "W5: [1, 0, 0, 0, 0]\n",
      "\n",
      "W1: [0, 0, 0, 0, 0]\n",
      "W2: [1, 0, 0, 0, 0]\n",
      "W3: [1, 0, 0, 0, 0]\n",
      "W4: [1, 0, 0, 0, 0]\n",
      "W5: [1, 0, 0, 0, 0]\n",
      "\n",
      "W1: [0, 0, 0, 0, 0]\n",
      "W2: [1, 1, 0, 0, 0]\n",
      "W3: [1, 0, 0, 0, 0]\n",
      "W4: [0, 0, 0, 0, 0]\n",
      "W5: [1, 1, 0, 0, 0]\n",
      "\n"
     ]
    }
   ],
   "source": [
    "for child in initialChildren:\n",
    "    child.printState()\n",
    "    print"
   ]
  },
  {
   "cell_type": "code",
   "execution_count": null,
   "metadata": {
    "collapsed": true
   },
   "outputs": [],
   "source": []
  }
 ],
 "metadata": {
  "kernelspec": {
   "display_name": "Python 2",
   "language": "python",
   "name": "python2"
  },
  "language_info": {
   "codemirror_mode": {
    "name": "ipython",
    "version": 2
   },
   "file_extension": ".py",
   "mimetype": "text/x-python",
   "name": "python",
   "nbconvert_exporter": "python",
   "pygments_lexer": "ipython2",
   "version": "2.7.14"
  }
 },
 "nbformat": 4,
 "nbformat_minor": 2
}
